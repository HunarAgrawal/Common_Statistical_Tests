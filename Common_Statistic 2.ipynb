{
 "cells": [
  {
   "cell_type": "markdown",
   "metadata": {},
   "source": [
    "1. **Chi-Square Test for Independence**"
   ]
  },
  {
   "cell_type": "code",
   "execution_count": 1,
   "metadata": {},
   "outputs": [
    {
     "name": "stdout",
     "output_type": "stream",
     "text": [
      "Chi-Square Statistic: 4.6667, p-value: 0.0970\n",
      "Fail to reject the null hypothesis: No significant association between gender and product preference.\n"
     ]
    }
   ],
   "source": [
    "from scipy.stats import chi2_contingency\n",
    "import numpy as np\n",
    "\n",
    "# Data: Contingency table for Gender and Product Preference\n",
    "data = np.array([[30, 10, 5],   # Male: Product A, B, C\n",
    "                 [20, 15, 10]]) # Female: Product A, B, C\n",
    "\n",
    "# Perform Chi-Square test\n",
    "chi2_stat, p_value, dof, expected = chi2_contingency(data)\n",
    "\n",
    "print(f\"Chi-Square Statistic: {chi2_stat:.4f}, p-value: {p_value:.4f}\")\n",
    "if p_value < 0.05:\n",
    "    print(\"Reject the null hypothesis: There is a significant association between gender and product preference.\")\n",
    "else:\n",
    "    print(\"Fail to reject the null hypothesis: No significant association between gender and product preference.\")\n"
   ]
  },
  {
   "cell_type": "markdown",
   "metadata": {},
   "source": [
    "2. **Pearson’s Correlation Coefficient**"
   ]
  },
  {
   "cell_type": "code",
   "execution_count": 2,
   "metadata": {},
   "outputs": [
    {
     "name": "stdout",
     "output_type": "stream",
     "text": [
      "Pearson's correlation: 0.9780, p-value: 0.0000\n",
      "Reject the null hypothesis: There is a significant linear relationship between the two subjects.\n"
     ]
    }
   ],
   "source": [
    "from scipy.stats import pearsonr\n",
    "\n",
    "# Data: Exam scores of two subjects\n",
    "subject_a = [85, 88, 92, 96, 90, 94, 100, 98, 75, 80]\n",
    "subject_b = [78, 82, 88, 92, 87, 90, 95, 93, 72, 79]\n",
    "\n",
    "# Perform Pearson correlation test\n",
    "correlation, p_value = pearsonr(subject_a, subject_b)\n",
    "\n",
    "print(f\"Pearson's correlation: {correlation:.4f}, p-value: {p_value:.4f}\")\n",
    "if p_value < 0.05:\n",
    "    print(\"Reject the null hypothesis: There is a significant linear relationship between the two subjects.\")\n",
    "else:\n",
    "    print(\"Fail to reject the null hypothesis: No significant linear relationship between the two subjects.\")\n"
   ]
  },
  {
   "cell_type": "markdown",
   "metadata": {},
   "source": [
    "3. **Mann-Whitney U Test**"
   ]
  },
  {
   "cell_type": "code",
   "execution_count": 3,
   "metadata": {},
   "outputs": [
    {
     "name": "stdout",
     "output_type": "stream",
     "text": [
      "Mann-Whitney U statistic: 68.0000, p-value: 0.0024\n",
      "Reject the null hypothesis: There is a significant difference between the test scores of the two schools.\n"
     ]
    }
   ],
   "source": [
    "from scipy.stats import mannwhitneyu\n",
    "\n",
    "# Data: Test scores of students from two different schools\n",
    "school_a = [85, 90, 92, 95, 100, 98, 94, 91]\n",
    "school_b = [80, 77, 85, 88, 90, 86, 83, 81, 79]\n",
    "\n",
    "# Perform Mann-Whitney U Test\n",
    "u_stat, p_value = mannwhitneyu(school_a, school_b)\n",
    "\n",
    "print(f\"Mann-Whitney U statistic: {u_stat:.4f}, p-value: {p_value:.4f}\")\n",
    "if p_value < 0.05:\n",
    "    print(\"Reject the null hypothesis: There is a significant difference between the test scores of the two schools.\")\n",
    "else:\n",
    "    print(\"Fail to reject the null hypothesis: No significant difference between the test scores of the two schools.\")\n"
   ]
  }
 ],
 "metadata": {
  "kernelspec": {
   "display_name": "Python 3 (ipykernel)",
   "language": "python",
   "name": "python3"
  },
  "language_info": {
   "codemirror_mode": {
    "name": "ipython",
    "version": 3
   },
   "file_extension": ".py",
   "mimetype": "text/x-python",
   "name": "python",
   "nbconvert_exporter": "python",
   "pygments_lexer": "ipython3",
   "version": "3.11.5"
  }
 },
 "nbformat": 4,
 "nbformat_minor": 2
}
